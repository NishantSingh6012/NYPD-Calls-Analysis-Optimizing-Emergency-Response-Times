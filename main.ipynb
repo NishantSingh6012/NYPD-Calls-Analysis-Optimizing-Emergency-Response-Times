{
 "cells": [
  {
   "cell_type": "markdown",
   "metadata": {
    "application/vnd.databricks.v1+cell": {
     "cellMetadata": {},
     "inputWidgets": {},
     "nuid": "e8cb3024-6204-4752-901c-66f30aa04d36",
     "showTitle": false,
     "title": ""
    }
   },
   "source": [
    "## Recursively delete all files and directories in Databricks file system (dbfs)\n"
   ]
  },
  {
   "cell_type": "code",
   "execution_count": 0,
   "metadata": {
    "application/vnd.databricks.v1+cell": {
     "cellMetadata": {},
     "inputWidgets": {},
     "nuid": "efde21a6-6cdb-494f-9562-7b3b2dc77456",
     "showTitle": false,
     "title": ""
    }
   },
   "outputs": [],
   "source": [
    "# %python\n",
    "# # Below line will delete all contents in the directory xyz, including xyz, if that directory is present. will fail for a systems folders, which you are not allowed to delete. \n",
    "# dbutils.fs.rm('dbfs:/FileStore/xyz', True) "
   ]
  },
  {
   "cell_type": "markdown",
   "metadata": {
    "application/vnd.databricks.v1+cell": {
     "cellMetadata": {},
     "inputWidgets": {},
     "nuid": "dcf165d2-a590-45da-be26-50dad4b0ef4d",
     "showTitle": false,
     "title": ""
    }
   },
   "source": [
    "## Creating a Spark DF from a list of lists"
   ]
  },
  {
   "cell_type": "code",
   "execution_count": 0,
   "metadata": {
    "application/vnd.databricks.v1+cell": {
     "cellMetadata": {},
     "inputWidgets": {},
     "nuid": "9c8029e5-79b1-402f-a64c-83f8607474ae",
     "showTitle": false,
     "title": ""
    }
   },
   "outputs": [
    {
     "output_type": "stream",
     "name": "stdout",
     "output_type": "stream",
     "text": [
      "root\n |-- Item: string (nullable = true)\n |-- Quantity: long (nullable = true)\n |-- Price: double (nullable = true)\n\n"
     ]
    }
   ],
   "source": [
    "my_grocery_list = [ [\"Banana\", 2, 1.74], [\"Apple\", 4, 2.04], [\"Carrot\", 1, 1.09] ]\n",
    "df_grocery_list = spark.createDataFrame(my_grocery_list, [\"Item\", \"Quantity\", \"Price\"] )\n",
    "df_grocery_list.printSchema()"
   ]
  },
  {
   "cell_type": "markdown",
   "metadata": {
    "application/vnd.databricks.v1+cell": {
     "cellMetadata": {},
     "inputWidgets": {},
     "nuid": "bf9af19c-5588-42ac-a8cc-a05e399d250a",
     "showTitle": false,
     "title": ""
    }
   },
   "source": [
    "## Read a CSV file"
   ]
  },
  {
   "cell_type": "code",
   "execution_count": 0,
   "metadata": {
    "application/vnd.databricks.v1+cell": {
     "cellMetadata": {},
     "inputWidgets": {},
     "nuid": "d0763ed3-c3c3-4f19-ae38-046559cf4dbe",
     "showTitle": false,
     "title": ""
    }
   },
   "outputs": [],
   "source": [
    "# Assign directory to a variable to avoid repeating the entire path again and again\n",
    "import os\n",
    "DIRECTORY = \"dbfs:/FileStore/tables/data\""
   ]
  },
  {
   "cell_type": "code",
   "execution_count": 0,
   "metadata": {
    "application/vnd.databricks.v1+cell": {
     "cellMetadata": {},
     "inputWidgets": {},
     "nuid": "025202d6-a0ae-4e8b-aea3-5d7d225c4fd5",
     "showTitle": false,
     "title": ""
    }
   },
   "outputs": [],
   "source": [
    "from pyspark.sql import SparkSession\n",
    "import pyspark.sql.functions as F\n",
    "spark = SparkSession.builder.getOrCreate()\n",
    "# We are explicitly calling out a few parameters in the SparkReader object. There are I think over 20 different parameters, but these should suffice for now \n",
    "logs = spark.read.csv(\n",
    "    path=os.path.join(DIRECTORY, \"BroadcastLogs_2018_Q3_M8.CSV\"),\n",
    "    sep=\"|\",\n",
    "    header=True,\n",
    "    inferSchema=True,\n",
    "    timestampFormat=\"yyyy-MM-dd\",\n",
    ")"
   ]
  },
  {
   "cell_type": "code",
   "execution_count": 0,
   "metadata": {
    "application/vnd.databricks.v1+cell": {
     "cellMetadata": {},
     "inputWidgets": {},
     "nuid": "3ff1c7f3-db88-4ba4-887b-fdefe78c8d85",
     "showTitle": false,
     "title": ""
    }
   },
   "outputs": [
    {
     "output_type": "stream",
     "name": "stdout",
     "output_type": "stream",
     "text": [
      "root\n |-- BroadcastLogID: integer (nullable = true)\n |-- LogServiceID: integer (nullable = true)\n |-- LogDate: timestamp (nullable = true)\n |-- SequenceNO: integer (nullable = true)\n |-- AudienceTargetAgeID: integer (nullable = true)\n |-- AudienceTargetEthnicID: integer (nullable = true)\n |-- CategoryID: integer (nullable = true)\n |-- ClosedCaptionID: integer (nullable = true)\n |-- CountryOfOriginID: integer (nullable = true)\n |-- DubDramaCreditID: integer (nullable = true)\n |-- EthnicProgramID: integer (nullable = true)\n |-- ProductionSourceID: integer (nullable = true)\n |-- ProgramClassID: integer (nullable = true)\n |-- FilmClassificationID: integer (nullable = true)\n |-- ExhibitionID: integer (nullable = true)\n |-- Duration: string (nullable = true)\n |-- EndTime: string (nullable = true)\n |-- LogEntryDate: timestamp (nullable = true)\n |-- ProductionNO: string (nullable = true)\n |-- ProgramTitle: string (nullable = true)\n |-- StartTime: string (nullable = true)\n |-- Subtitle: string (nullable = true)\n |-- NetworkAffiliationID: integer (nullable = true)\n |-- SpecialAttentionID: integer (nullable = true)\n |-- BroadcastOriginPointID: integer (nullable = true)\n |-- CompositionID: integer (nullable = true)\n |-- Producer1: string (nullable = true)\n |-- Producer2: string (nullable = true)\n |-- Language1: integer (nullable = true)\n |-- Language2: integer (nullable = true)\n\n"
     ]
    }
   ],
   "source": [
    "logs.printSchema()"
   ]
  },
  {
   "cell_type": "markdown",
   "metadata": {
    "application/vnd.databricks.v1+cell": {
     "cellMetadata": {},
     "inputWidgets": {},
     "nuid": "d9e33846-0296-475b-b756-7810f931275e",
     "showTitle": false,
     "title": ""
    }
   },
   "source": [
    "## select()"
   ]
  },
  {
   "cell_type": "code",
   "execution_count": 0,
   "metadata": {
    "application/vnd.databricks.v1+cell": {
     "cellMetadata": {},
     "inputWidgets": {},
     "nuid": "fb486f3b-df0b-43e3-b12d-5a7fd56ebc09",
     "showTitle": false,
     "title": ""
    }
   },
   "outputs": [
    {
     "output_type": "stream",
     "name": "stdout",
     "output_type": "stream",
     "text": [
      "Out[6]: DataFrame[BroadCastLogID: int, LogServiceID: int, LogDate: timestamp]"
     ]
    }
   ],
   "source": [
    "# Multiple ways to using select() to acheive the same result\n",
    "\n",
    "# Using the string to column conversion\n",
    "logs.select(  \"BroadCastLogID\", \"LogServiceID\", \"LogDate\")\n",
    "logs.select(*[\"BroadCastLogID\", \"LogServiceID\", \"LogDate\"])\n",
    " \n",
    "# Passing the column object explicitly\n",
    "logs.select(  F.col(\"BroadCastLogID\"), F.col(\"LogServiceID\"), F.col(\"LogDate\"))\n",
    "logs.select(*[F.col(\"BroadCastLogID\"), F.col(\"LogServiceID\"), F.col(\"LogDate\")])"
   ]
  },
  {
   "cell_type": "markdown",
   "metadata": {
    "application/vnd.databricks.v1+cell": {
     "cellMetadata": {},
     "inputWidgets": {},
     "nuid": "2fa35099-dfec-4ce7-952c-10591512739c",
     "showTitle": false,
     "title": ""
    }
   },
   "source": [
    "## drop()"
   ]
  },
  {
   "cell_type": "code",
   "execution_count": 0,
   "metadata": {
    "application/vnd.databricks.v1+cell": {
     "cellMetadata": {},
     "inputWidgets": {},
     "nuid": "197878b3-b767-454b-86cb-aaa6335f60b9",
     "showTitle": false,
     "title": ""
    }
   },
   "outputs": [
    {
     "output_type": "stream",
     "name": "stdout",
     "output_type": "stream",
     "text": [
      "False\nFalse\n"
     ]
    }
   ],
   "source": [
    "logs = logs.drop(\"BroadcastLogID\", \"SequenceNO\")\n",
    "\n",
    "# Testing if we effectively got rid of the columns\n",
    " \n",
    "print(\"BroadcastLogID\" in logs.columns)  # => False\n",
    "print(\"SequenceNo\" in logs.columns)  # => False"
   ]
  },
  {
   "cell_type": "code",
   "execution_count": 0,
   "metadata": {
    "application/vnd.databricks.v1+cell": {
     "cellMetadata": {},
     "inputWidgets": {},
     "nuid": "1241bbd4-9133-4d26-af6f-dc85860d4418",
     "showTitle": false,
     "title": ""
    }
   },
   "outputs": [],
   "source": [
    "# Replicate the above drop() operation with a select()\n",
    "logs = logs.select(\n",
    "    *[x for x in logs.columns if x not in [\"BroadcastLogID\", \"SequenceNO\"]]\n",
    ")"
   ]
  },
  {
   "cell_type": "markdown",
   "metadata": {
    "application/vnd.databricks.v1+cell": {
     "cellMetadata": {},
     "inputWidgets": {},
     "nuid": "1e5d34fa-d620-4842-9e61-04268549d7ec",
     "showTitle": false,
     "title": ""
    }
   },
   "source": [
    "## withColumn()"
   ]
  },
  {
   "cell_type": "code",
   "execution_count": 0,
   "metadata": {
    "application/vnd.databricks.v1+cell": {
     "cellMetadata": {},
     "inputWidgets": {},
     "nuid": "09d1a5b8-7c75-4771-9978-c0b61c26c980",
     "showTitle": false,
     "title": ""
    }
   },
   "outputs": [
    {
     "output_type": "stream",
     "name": "stdout",
     "output_type": "stream",
     "text": [
      "+----------------+\n|        Duration|\n+----------------+\n|02:00:00.0000000|\n|00:00:30.0000000|\n|00:00:15.0000000|\n|00:00:15.0000000|\n|00:00:15.0000000|\n+----------------+\nonly showing top 5 rows\n\n[('Duration', 'string')]\n"
     ]
    }
   ],
   "source": [
    "# The column \"Duration\" is inferred as a string\n",
    "logs.select(F.col(\"Duration\")).show(5)\n",
    " \n",
    "print(logs.select(F.col(\"Duration\")).dtypes) # [('Duration', 'string')]"
   ]
  },
  {
   "cell_type": "code",
   "execution_count": 0,
   "metadata": {
    "application/vnd.databricks.v1+cell": {
     "cellMetadata": {},
     "inputWidgets": {},
     "nuid": "cfaa17ec-d04b-4afa-9005-eda1088222ce",
     "showTitle": false,
     "title": ""
    }
   },
   "outputs": [
    {
     "output_type": "stream",
     "name": "stdout",
     "output_type": "stream",
     "text": [
      "+----------------+---------+-----------+-----------+\n|        Duration|dur_hours|dur_minutes|dur_seconds|\n+----------------+---------+-----------+-----------+\n|00:00:30.0000000|        0|          0|         30|\n|00:01:00.0000000|        0|          1|          0|\n|00:00:15.0000000|        0|          0|         15|\n|02:00:00.0000000|        2|          0|          0|\n|00:00:10.0000000|        0|          0|         10|\n+----------------+---------+-----------+-----------+\nonly showing top 5 rows\n\n"
     ]
    }
   ],
   "source": [
    "# We use substr() and cast() to extract HH, MM, and SS\n",
    "logs.select(\n",
    "    F.col(\"Duration\"),\n",
    "    F.col(\"Duration\").substr(1, 2).cast(\"int\").alias(\"dur_hours\"),\n",
    "    F.col(\"Duration\").substr(4, 2).cast(\"int\").alias(\"dur_minutes\"),\n",
    "    F.col(\"Duration\").substr(7, 2).cast(\"int\").alias(\"dur_seconds\"),\n",
    ").distinct().show(5)"
   ]
  },
  {
   "cell_type": "code",
   "execution_count": 0,
   "metadata": {
    "application/vnd.databricks.v1+cell": {
     "cellMetadata": {},
     "inputWidgets": {},
     "nuid": "1da2ea8e-4acf-4501-bc27-912132608c8c",
     "showTitle": false,
     "title": ""
    }
   },
   "outputs": [
    {
     "output_type": "stream",
     "name": "stdout",
     "output_type": "stream",
     "text": [
      "+----------------+----------------+\n|        Duration|Duration_seconds|\n+----------------+----------------+\n|00:00:30.0000000|              30|\n|00:00:05.0000000|               5|\n|00:01:00.0000000|              60|\n|00:00:15.0000000|              15|\n|02:00:00.0000000|            7200|\n+----------------+----------------+\nonly showing top 5 rows\n\n"
     ]
    }
   ],
   "source": [
    "# Instead of creating seperate columns for to extract HH, MM, and SS, creating one clumn called \"Duration_seconds\" by performing arithmetic on columns\n",
    "\n",
    "logs.select(\n",
    "    F.col(\"Duration\"),\n",
    "    (\n",
    "        F.col(\"Duration\").substr(1, 2).cast(\"int\") * 60 * 60\n",
    "        + F.col(\"Duration\").substr(4, 2).cast(\"int\") * 60\n",
    "        + F.col(\"Duration\").substr(7, 2).cast(\"int\")\n",
    "    ).alias(\"Duration_seconds\"),\n",
    ").distinct().show(5)"
   ]
  },
  {
   "cell_type": "code",
   "execution_count": 0,
   "metadata": {
    "application/vnd.databricks.v1+cell": {
     "cellMetadata": {},
     "inputWidgets": {},
     "nuid": "f29d2b92-de3f-4dd1-ac05-e8eaa312cc7e",
     "showTitle": false,
     "title": ""
    }
   },
   "outputs": [
    {
     "output_type": "stream",
     "name": "stdout",
     "output_type": "stream",
     "text": [
      "root\n |-- LogServiceID: integer (nullable = true)\n |-- LogDate: timestamp (nullable = true)\n |-- AudienceTargetAgeID: integer (nullable = true)\n |-- AudienceTargetEthnicID: integer (nullable = true)\n |-- CategoryID: integer (nullable = true)\n |-- ClosedCaptionID: integer (nullable = true)\n |-- CountryOfOriginID: integer (nullable = true)\n |-- DubDramaCreditID: integer (nullable = true)\n |-- EthnicProgramID: integer (nullable = true)\n |-- ProductionSourceID: integer (nullable = true)\n |-- ProgramClassID: integer (nullable = true)\n |-- FilmClassificationID: integer (nullable = true)\n |-- ExhibitionID: integer (nullable = true)\n |-- Duration: string (nullable = true)\n |-- EndTime: string (nullable = true)\n |-- LogEntryDate: timestamp (nullable = true)\n |-- ProductionNO: string (nullable = true)\n |-- ProgramTitle: string (nullable = true)\n |-- StartTime: string (nullable = true)\n |-- Subtitle: string (nullable = true)\n |-- NetworkAffiliationID: integer (nullable = true)\n |-- SpecialAttentionID: integer (nullable = true)\n |-- BroadcastOriginPointID: integer (nullable = true)\n |-- CompositionID: integer (nullable = true)\n |-- Producer1: string (nullable = true)\n |-- Producer2: string (nullable = true)\n |-- Language1: integer (nullable = true)\n |-- Language2: integer (nullable = true)\n |-- Duration_seconds: integer (nullable = true)\n\n"
     ]
    }
   ],
   "source": [
    "# Bringing it home - creating a new column using withColumn() method\n",
    "# Note: until now, we have not modified the logs DF in this section, but here we are modifying it by assigning the outcome to the logs DataFrame\n",
    "logs = logs.withColumn(\n",
    "    \"Duration_seconds\",\n",
    "    (\n",
    "        F.col(\"Duration\").substr(1, 2).cast(\"int\") * 60 * 60\n",
    "        + F.col(\"Duration\").substr(4, 2).cast(\"int\") * 60\n",
    "        + F.col(\"Duration\").substr(7, 2).cast(\"int\")\n",
    "    ),\n",
    ")\n",
    "logs.printSchema()"
   ]
  },
  {
   "cell_type": "markdown",
   "metadata": {
    "application/vnd.databricks.v1+cell": {
     "cellMetadata": {},
     "inputWidgets": {},
     "nuid": "786f9edf-7759-49b6-af1e-7ce74b52f2ea",
     "showTitle": false,
     "title": ""
    }
   },
   "source": [
    "## withColumnRenamed()"
   ]
  },
  {
   "cell_type": "code",
   "execution_count": 0,
   "metadata": {
    "application/vnd.databricks.v1+cell": {
     "cellMetadata": {},
     "inputWidgets": {},
     "nuid": "4037e95b-18c6-4728-9baa-b71cc9e8ffb3",
     "showTitle": false,
     "title": ""
    }
   },
   "outputs": [
    {
     "output_type": "stream",
     "name": "stdout",
     "output_type": "stream",
     "text": [
      "root\n |-- LogServiceID: integer (nullable = true)\n |-- LogDate: timestamp (nullable = true)\n |-- AudienceTargetAgeID: integer (nullable = true)\n |-- AudienceTargetEthnicID: integer (nullable = true)\n |-- CategoryID: integer (nullable = true)\n |-- ClosedCaptionID: integer (nullable = true)\n |-- CountryOfOriginID: integer (nullable = true)\n |-- DubDramaCreditID: integer (nullable = true)\n |-- EthnicProgramID: integer (nullable = true)\n |-- ProductionSourceID: integer (nullable = true)\n |-- ProgramClassID: integer (nullable = true)\n |-- FilmClassificationID: integer (nullable = true)\n |-- ExhibitionID: integer (nullable = true)\n |-- Duration: string (nullable = true)\n |-- EndTime: string (nullable = true)\n |-- LogEntryDate: timestamp (nullable = true)\n |-- ProductionNO: string (nullable = true)\n |-- ProgramTitle: string (nullable = true)\n |-- StartTime: string (nullable = true)\n |-- Subtitle: string (nullable = true)\n |-- NetworkAffiliationID: integer (nullable = true)\n |-- SpecialAttentionID: integer (nullable = true)\n |-- BroadcastOriginPointID: integer (nullable = true)\n |-- CompositionID: integer (nullable = true)\n |-- Producer1: string (nullable = true)\n |-- Producer2: string (nullable = true)\n |-- Language1: integer (nullable = true)\n |-- Language2: integer (nullable = true)\n |-- duration_seconds: integer (nullable = true)\n\n"
     ]
    }
   ],
   "source": [
    "# Changing the column name in place from \"Duration_seconds\" to \"duration_seconds\"\n",
    "logs = logs.withColumnRenamed(\"Duration_seconds\", \"duration_seconds\")\n",
    "logs.printSchema()"
   ]
  },
  {
   "cell_type": "markdown",
   "metadata": {
    "application/vnd.databricks.v1+cell": {
     "cellMetadata": {},
     "inputWidgets": {},
     "nuid": "28ed226e-da37-4b55-89d1-9b0524c96f93",
     "showTitle": false,
     "title": ""
    }
   },
   "source": [
    "## describe()"
   ]
  },
  {
   "cell_type": "code",
   "execution_count": 0,
   "metadata": {
    "application/vnd.databricks.v1+cell": {
     "cellMetadata": {},
     "inputWidgets": {},
     "nuid": "894ba25a-d5eb-4c24-9d45-39d6d155d2c2",
     "showTitle": false,
     "title": ""
    }
   },
   "outputs": [
    {
     "output_type": "stream",
     "name": "stdout",
     "output_type": "stream",
     "text": [
      "0 LogServiceID [('LogServiceID', 'int')]\n+-------+------------------+\n|summary|      LogServiceID|\n+-------+------------------+\n|  count|            238945|\n|   mean| 3450.890284375065|\n| stddev|199.50673962554782|\n|    min|              3157|\n|    max|              3925|\n+-------+------------------+\n\n1 LogDate [('LogDate', 'timestamp')]\n+-------+\n|summary|\n+-------+\n|  count|\n|   mean|\n| stddev|\n|    min|\n|    max|\n+-------+\n\n2 AudienceTargetAgeID [('AudienceTargetAgeID', 'int')]\n+-------+-------------------+\n|summary|AudienceTargetAgeID|\n+-------+-------------------+\n|  count|              16112|\n|   mean| 3.4929245283018866|\n| stddev| 1.0415963394745122|\n|    min|                  1|\n|    max|                  4|\n+-------+-------------------+\n\n3 AudienceTargetEthnicID [('AudienceTargetEthnicID', 'int')]\n+-------+----------------------+\n|summary|AudienceTargetEthnicID|\n+-------+----------------------+\n|  count|                  1710|\n|   mean|    120.56432748538012|\n| stddev|     71.98694059436134|\n|    min|                     4|\n|    max|                   337|\n+-------+----------------------+\n\n"
     ]
    }
   ],
   "source": [
    "# logs.describe() # is not going to return anything\n",
    "# logs.describe().show(5) # will also be messy, given so mant coulmns\n",
    "# let's do it one column at a time and stop at thre columns\n",
    "for counter,i in enumerate(logs.columns):\n",
    "    if counter < 4:\n",
    "        print(counter, i, logs.select(i).dtypes)\n",
    "        logs.describe(i).show()\n",
    "    else:\n",
    "        break"
   ]
  },
  {
   "cell_type": "markdown",
   "metadata": {
    "application/vnd.databricks.v1+cell": {
     "cellMetadata": {},
     "inputWidgets": {},
     "nuid": "03c30f43-cc8b-4044-88e8-3e556e32dddf",
     "showTitle": false,
     "title": ""
    }
   },
   "source": [
    "## summary()"
   ]
  },
  {
   "cell_type": "code",
   "execution_count": 0,
   "metadata": {
    "application/vnd.databricks.v1+cell": {
     "cellMetadata": {},
     "inputWidgets": {},
     "nuid": "08e88c9d-ebfb-45a6-a5ef-0e853818ac5e",
     "showTitle": false,
     "title": ""
    }
   },
   "outputs": [
    {
     "output_type": "stream",
     "name": "stdout",
     "output_type": "stream",
     "text": [
      "0 LogServiceID [('LogServiceID', 'int')]\n+-------+------------------+\n|summary|      LogServiceID|\n+-------+------------------+\n|  count|            238945|\n|   mean| 3450.890284375065|\n| stddev|199.50673962554782|\n|    min|              3157|\n|    25%|              3287|\n|    50%|              3379|\n|    75%|              3627|\n|    max|              3925|\n+-------+------------------+\n\n1 LogDate [('LogDate', 'timestamp')]\n+-------+\n|summary|\n+-------+\n|  count|\n|   mean|\n| stddev|\n|    min|\n|    25%|\n|    50%|\n|    75%|\n|    max|\n+-------+\n\n2 AudienceTargetAgeID [('AudienceTargetAgeID', 'int')]\n+-------+-------------------+\n|summary|AudienceTargetAgeID|\n+-------+-------------------+\n|  count|              16112|\n|   mean| 3.4929245283018866|\n| stddev| 1.0415963394745122|\n|    min|                  1|\n|    25%|                  4|\n|    50%|                  4|\n|    75%|                  4|\n|    max|                  4|\n+-------+-------------------+\n\n3 AudienceTargetEthnicID [('AudienceTargetEthnicID', 'int')]\n+-------+----------------------+\n|summary|AudienceTargetEthnicID|\n+-------+----------------------+\n|  count|                  1710|\n|   mean|    120.56432748538012|\n| stddev|     71.98694059436134|\n|    min|                     4|\n|    25%|                    74|\n|    50%|                    95|\n|    75%|                   136|\n|    max|                   337|\n+-------+----------------------+\n\n"
     ]
    }
   ],
   "source": [
    "for counter,i in enumerate(logs.columns):\n",
    "    if counter < 4:\n",
    "        print(counter, i, logs.select(i).dtypes)\n",
    "        logs.select(i).summary().show()\n",
    "    else:\n",
    "        break"
   ]
  },
  {
   "cell_type": "code",
   "execution_count": 0,
   "metadata": {
    "application/vnd.databricks.v1+cell": {
     "cellMetadata": {},
     "inputWidgets": {},
     "nuid": "088d0aea-1e60-4bef-ae58-bec4066f6727",
     "showTitle": false,
     "title": ""
    }
   },
   "outputs": [
    {
     "output_type": "stream",
     "name": "stdout",
     "output_type": "stream",
     "text": [
      "0 LogServiceID [('LogServiceID', 'int')]\n+-------+------------+\n|summary|LogServiceID|\n+-------+------------+\n|    min|        3157|\n|    10%|        3236|\n|    90%|        3709|\n|    max|        3925|\n+-------+------------+\n\n1 LogDate [('LogDate', 'timestamp')]\n+-------+\n|summary|\n+-------+\n|    min|\n|    10%|\n|    90%|\n|    max|\n+-------+\n\n2 AudienceTargetAgeID [('AudienceTargetAgeID', 'int')]\n+-------+-------------------+\n|summary|AudienceTargetAgeID|\n+-------+-------------------+\n|    min|                  1|\n|    10%|                  1|\n|    90%|                  4|\n|    max|                  4|\n+-------+-------------------+\n\n3 AudienceTargetEthnicID [('AudienceTargetEthnicID', 'int')]\n+-------+----------------------+\n|summary|AudienceTargetEthnicID|\n+-------+----------------------+\n|    min|                     4|\n|    10%|                    74|\n|    90%|                   258|\n|    max|                   337|\n+-------+----------------------+\n\n"
     ]
    }
   ],
   "source": [
    "# You can get additional percentiles too and get very specific about what you want to see as an output of summary()\n",
    "for counter,i in enumerate(logs.columns):\n",
    "    if counter < 4:\n",
    "        print(counter, i, logs.select(i).dtypes)\n",
    "        logs.select(i).summary(\"min\", \"10%\", \"90%\", \"max\").show()\n",
    "    else:\n",
    "        break"
   ]
  },
  {
   "cell_type": "markdown",
   "metadata": {
    "application/vnd.databricks.v1+cell": {
     "cellMetadata": {},
     "inputWidgets": {},
     "nuid": "e40f8f3d-28f1-4da8-b8c3-619dc82b2eec",
     "showTitle": false,
     "title": ""
    }
   },
   "source": [
    "## JOINS"
   ]
  },
  {
   "cell_type": "code",
   "execution_count": 0,
   "metadata": {
    "application/vnd.databricks.v1+cell": {
     "cellMetadata": {},
     "inputWidgets": {},
     "nuid": "a79f3604-3c53-430e-8898-edc80c06d5e5",
     "showTitle": false,
     "title": ""
    }
   },
   "outputs": [
    {
     "output_type": "stream",
     "name": "stdout",
     "output_type": "stream",
     "text": [
      "root\n |-- LogIdentifierID: string (nullable = true)\n |-- LogServiceID: integer (nullable = true)\n |-- PrimaryFG: integer (nullable = true)\n\n"
     ]
    }
   ],
   "source": [
    "# DIRECTORY = \"dbfs:/FileStore/tables/data\"\n",
    "log_identifier = spark.read.csv(\n",
    "    os.path.join(DIRECTORY, \"ReferenceTables/LogIdentifier.csv\"),\n",
    "    sep=\"|\",\n",
    "    header=True,\n",
    "    inferSchema=True,\n",
    ")\n",
    " \n",
    "log_identifier.printSchema()"
   ]
  },
  {
   "cell_type": "code",
   "execution_count": 0,
   "metadata": {
    "application/vnd.databricks.v1+cell": {
     "cellMetadata": {},
     "inputWidgets": {},
     "nuid": "92fdd59b-6e56-40e1-b76e-a299ca674eb2",
     "showTitle": false,
     "title": ""
    }
   },
   "outputs": [
    {
     "output_type": "stream",
     "name": "stdout",
     "output_type": "stream",
     "text": [
      "758\n+---------------+------------+---------+\n|LogIdentifierID|LogServiceID|PrimaryFG|\n+---------------+------------+---------+\n|           13ST|        3157|        1|\n|         2000SM|        3466|        1|\n|           70SM|        3883|        1|\n|           80SM|        3590|        1|\n|           90SM|        3470|        1|\n+---------------+------------+---------+\nonly showing top 5 rows\n\n"
     ]
    }
   ],
   "source": [
    "log_identifier = log_identifier.where(F.col(\"PrimaryFG\") == 1) # example of conditional filtering on a column\n",
    "print(log_identifier.count())\n",
    "log_identifier.show(5)"
   ]
  },
  {
   "cell_type": "code",
   "execution_count": 0,
   "metadata": {
    "application/vnd.databricks.v1+cell": {
     "cellMetadata": {},
     "inputWidgets": {},
     "nuid": "aced0bed-a4f8-4bd2-846f-138bf0a524d8",
     "showTitle": false,
     "title": ""
    }
   },
   "outputs": [
    {
     "output_type": "stream",
     "name": "stdout",
     "output_type": "stream",
     "text": [
      "root\n |-- LogServiceID: integer (nullable = true)\n |-- LogDate: timestamp (nullable = true)\n |-- AudienceTargetAgeID: integer (nullable = true)\n |-- AudienceTargetEthnicID: integer (nullable = true)\n |-- CategoryID: integer (nullable = true)\n |-- ClosedCaptionID: integer (nullable = true)\n |-- CountryOfOriginID: integer (nullable = true)\n |-- DubDramaCreditID: integer (nullable = true)\n |-- EthnicProgramID: integer (nullable = true)\n |-- ProductionSourceID: integer (nullable = true)\n |-- ProgramClassID: integer (nullable = true)\n |-- FilmClassificationID: integer (nullable = true)\n |-- ExhibitionID: integer (nullable = true)\n |-- Duration: string (nullable = true)\n |-- EndTime: string (nullable = true)\n |-- LogEntryDate: timestamp (nullable = true)\n |-- ProductionNO: string (nullable = true)\n |-- ProgramTitle: string (nullable = true)\n |-- StartTime: string (nullable = true)\n |-- Subtitle: string (nullable = true)\n |-- NetworkAffiliationID: integer (nullable = true)\n |-- SpecialAttentionID: integer (nullable = true)\n |-- BroadcastOriginPointID: integer (nullable = true)\n |-- CompositionID: integer (nullable = true)\n |-- Producer1: string (nullable = true)\n |-- Producer2: string (nullable = true)\n |-- Language1: integer (nullable = true)\n |-- Language2: integer (nullable = true)\n |-- duration_seconds: integer (nullable = true)\n |-- LogIdentifierID: string (nullable = true)\n |-- LogServiceID: integer (nullable = true)\n |-- PrimaryFG: integer (nullable = true)\n\n"
     ]
    }
   ],
   "source": [
    "# Create a DF with two identical column names by a JOIN operation. In this case, the column \"LogServiceID\"\n",
    "\n",
    "logs_and_channels_verbose = logs.join(\n",
    "    log_identifier, logs[\"LogServiceID\"] == log_identifier[\"LogServiceID\"]\n",
    ")\n",
    "logs_and_channels_verbose.printSchema()"
   ]
  },
  {
   "cell_type": "code",
   "execution_count": 0,
   "metadata": {
    "application/vnd.databricks.v1+cell": {
     "cellMetadata": {},
     "inputWidgets": {},
     "nuid": "a427b85c-64b6-4070-99a3-b14e39e20731",
     "showTitle": false,
     "title": ""
    }
   },
   "outputs": [
    {
     "output_type": "stream",
     "name": "stdout",
     "output_type": "stream",
     "text": [
      "Reference 'LogServiceID' is ambiguous, could be: LogServiceID, LogServiceID.\n"
     ]
    }
   ],
   "source": [
    "from pyspark.sql.utils import AnalysisException\n",
    "try:\n",
    "    logs_and_channels_verbose.select(\"LogServiceID\")\n",
    "except AnalysisException as err:\n",
    "    print(err)"
   ]
  },
  {
   "cell_type": "markdown",
   "metadata": {
    "application/vnd.databricks.v1+cell": {
     "cellMetadata": {},
     "inputWidgets": {},
     "nuid": "9a853719-e2b3-440e-9cf6-eeaeef8fa8c1",
     "showTitle": false,
     "title": ""
    }
   },
   "source": [
    "## Naming Convention - Option 1 "
   ]
  },
  {
   "cell_type": "code",
   "execution_count": 0,
   "metadata": {
    "application/vnd.databricks.v1+cell": {
     "cellMetadata": {},
     "inputWidgets": {},
     "nuid": "13170134-ce88-4c7a-8bf4-9381269b482f",
     "showTitle": false,
     "title": ""
    }
   },
   "outputs": [
    {
     "output_type": "stream",
     "name": "stdout",
     "output_type": "stream",
     "text": [
      "root\n |-- LogServiceID: integer (nullable = true)\n |-- LogDate: timestamp (nullable = true)\n |-- AudienceTargetAgeID: integer (nullable = true)\n |-- AudienceTargetEthnicID: integer (nullable = true)\n |-- CategoryID: integer (nullable = true)\n |-- ClosedCaptionID: integer (nullable = true)\n |-- CountryOfOriginID: integer (nullable = true)\n |-- DubDramaCreditID: integer (nullable = true)\n |-- EthnicProgramID: integer (nullable = true)\n |-- ProductionSourceID: integer (nullable = true)\n |-- ProgramClassID: integer (nullable = true)\n |-- FilmClassificationID: integer (nullable = true)\n |-- ExhibitionID: integer (nullable = true)\n |-- Duration: string (nullable = true)\n |-- EndTime: string (nullable = true)\n |-- LogEntryDate: timestamp (nullable = true)\n |-- ProductionNO: string (nullable = true)\n |-- ProgramTitle: string (nullable = true)\n |-- StartTime: string (nullable = true)\n |-- Subtitle: string (nullable = true)\n |-- NetworkAffiliationID: integer (nullable = true)\n |-- SpecialAttentionID: integer (nullable = true)\n |-- BroadcastOriginPointID: integer (nullable = true)\n |-- CompositionID: integer (nullable = true)\n |-- Producer1: string (nullable = true)\n |-- Producer2: string (nullable = true)\n |-- Language1: integer (nullable = true)\n |-- Language2: integer (nullable = true)\n |-- duration_seconds: integer (nullable = true)\n |-- LogIdentifierID: string (nullable = true)\n |-- PrimaryFG: integer (nullable = true)\n\n"
     ]
    }
   ],
   "source": [
    "logs_and_channels = logs.join(log_identifier, \"LogServiceID\")\n",
    "logs_and_channels.printSchema()\n",
    "\n",
    "# No LogServiceID here: PySpark kept only the first referred column"
   ]
  },
  {
   "cell_type": "markdown",
   "metadata": {
    "application/vnd.databricks.v1+cell": {
     "cellMetadata": {},
     "inputWidgets": {},
     "nuid": "66d81f0c-a6fd-49c6-8ac0-c9921ddc5079",
     "showTitle": false,
     "title": ""
    }
   },
   "source": [
    "## Naming Convention - Option 2"
   ]
  },
  {
   "cell_type": "code",
   "execution_count": 0,
   "metadata": {
    "application/vnd.databricks.v1+cell": {
     "cellMetadata": {},
     "inputWidgets": {},
     "nuid": "15c0699b-5879-4e89-8d48-0aa67ac87468",
     "showTitle": false,
     "title": ""
    }
   },
   "outputs": [
    {
     "output_type": "stream",
     "name": "stdout",
     "output_type": "stream",
     "text": [
      "root\n |-- LogServiceID: integer (nullable = true)\n |-- LogDate: timestamp (nullable = true)\n |-- AudienceTargetAgeID: integer (nullable = true)\n |-- AudienceTargetEthnicID: integer (nullable = true)\n |-- CategoryID: integer (nullable = true)\n |-- ClosedCaptionID: integer (nullable = true)\n |-- CountryOfOriginID: integer (nullable = true)\n |-- DubDramaCreditID: integer (nullable = true)\n |-- EthnicProgramID: integer (nullable = true)\n |-- ProductionSourceID: integer (nullable = true)\n |-- ProgramClassID: integer (nullable = true)\n |-- FilmClassificationID: integer (nullable = true)\n |-- ExhibitionID: integer (nullable = true)\n |-- Duration: string (nullable = true)\n |-- EndTime: string (nullable = true)\n |-- LogEntryDate: timestamp (nullable = true)\n |-- ProductionNO: string (nullable = true)\n |-- ProgramTitle: string (nullable = true)\n |-- StartTime: string (nullable = true)\n |-- Subtitle: string (nullable = true)\n |-- NetworkAffiliationID: integer (nullable = true)\n |-- SpecialAttentionID: integer (nullable = true)\n |-- BroadcastOriginPointID: integer (nullable = true)\n |-- CompositionID: integer (nullable = true)\n |-- Producer1: string (nullable = true)\n |-- Producer2: string (nullable = true)\n |-- Language1: integer (nullable = true)\n |-- Language2: integer (nullable = true)\n |-- duration_seconds: integer (nullable = true)\n |-- LogIdentifierID: string (nullable = true)\n |-- LogServiceID: integer (nullable = true)\n |-- PrimaryFG: integer (nullable = true)\n\n"
     ]
    }
   ],
   "source": [
    "# Using the origin name of the column for unambiguous selection\n",
    "logs_and_channels = logs.join(\n",
    "    log_identifier, logs[\"LogServiceID\"] == log_identifier[\"LogServiceID\"]\n",
    ")\n",
    "logs_and_channels.printSchema()"
   ]
  },
  {
   "cell_type": "code",
   "execution_count": 0,
   "metadata": {
    "application/vnd.databricks.v1+cell": {
     "cellMetadata": {},
     "inputWidgets": {},
     "nuid": "a3fb4ba7-341f-4f8a-8925-6e4d49b1575f",
     "showTitle": false,
     "title": ""
    }
   },
   "outputs": [
    {
     "output_type": "stream",
     "name": "stdout",
     "output_type": "stream",
     "text": [
      "root\n |-- LogServiceID: integer (nullable = true)\n |-- LogDate: timestamp (nullable = true)\n |-- AudienceTargetAgeID: integer (nullable = true)\n |-- AudienceTargetEthnicID: integer (nullable = true)\n |-- CategoryID: integer (nullable = true)\n |-- ClosedCaptionID: integer (nullable = true)\n |-- CountryOfOriginID: integer (nullable = true)\n |-- DubDramaCreditID: integer (nullable = true)\n |-- EthnicProgramID: integer (nullable = true)\n |-- ProductionSourceID: integer (nullable = true)\n |-- ProgramClassID: integer (nullable = true)\n |-- FilmClassificationID: integer (nullable = true)\n |-- ExhibitionID: integer (nullable = true)\n |-- Duration: string (nullable = true)\n |-- EndTime: string (nullable = true)\n |-- LogEntryDate: timestamp (nullable = true)\n |-- ProductionNO: string (nullable = true)\n |-- ProgramTitle: string (nullable = true)\n |-- StartTime: string (nullable = true)\n |-- Subtitle: string (nullable = true)\n |-- NetworkAffiliationID: integer (nullable = true)\n |-- SpecialAttentionID: integer (nullable = true)\n |-- BroadcastOriginPointID: integer (nullable = true)\n |-- CompositionID: integer (nullable = true)\n |-- Producer1: string (nullable = true)\n |-- Producer2: string (nullable = true)\n |-- Language1: integer (nullable = true)\n |-- Language2: integer (nullable = true)\n |-- duration_seconds: integer (nullable = true)\n |-- LogIdentifierID: string (nullable = true)\n |-- PrimaryFG: integer (nullable = true)\n\n"
     ]
    }
   ],
   "source": [
    "# Drop the duplicate column \n",
    "logs_and_channels = logs_and_channels.drop(log_identifier[\"LogServiceID\"])\n",
    "logs_and_channels.printSchema()"
   ]
  },
  {
   "cell_type": "markdown",
   "metadata": {
    "application/vnd.databricks.v1+cell": {
     "cellMetadata": {},
     "inputWidgets": {},
     "nuid": "9407c00c-60a2-4ff6-af74-73882e21f95b",
     "showTitle": false,
     "title": ""
    }
   },
   "source": [
    "## Naming Convention - Option 3"
   ]
  },
  {
   "cell_type": "code",
   "execution_count": 0,
   "metadata": {
    "application/vnd.databricks.v1+cell": {
     "cellMetadata": {},
     "inputWidgets": {},
     "nuid": "cb402075-8212-4caf-9313-5f6c648141cc",
     "showTitle": false,
     "title": ""
    }
   },
   "outputs": [
    {
     "output_type": "stream",
     "name": "stdout",
     "output_type": "stream",
     "text": [
      "root\n |-- LogServiceID: integer (nullable = true)\n |-- LogDate: timestamp (nullable = true)\n |-- AudienceTargetAgeID: integer (nullable = true)\n |-- AudienceTargetEthnicID: integer (nullable = true)\n |-- CategoryID: integer (nullable = true)\n |-- ClosedCaptionID: integer (nullable = true)\n |-- CountryOfOriginID: integer (nullable = true)\n |-- DubDramaCreditID: integer (nullable = true)\n |-- EthnicProgramID: integer (nullable = true)\n |-- ProductionSourceID: integer (nullable = true)\n |-- ProgramClassID: integer (nullable = true)\n |-- FilmClassificationID: integer (nullable = true)\n |-- ExhibitionID: integer (nullable = true)\n |-- Duration: string (nullable = true)\n |-- EndTime: string (nullable = true)\n |-- LogEntryDate: timestamp (nullable = true)\n |-- ProductionNO: string (nullable = true)\n |-- ProgramTitle: string (nullable = true)\n |-- StartTime: string (nullable = true)\n |-- Subtitle: string (nullable = true)\n |-- NetworkAffiliationID: integer (nullable = true)\n |-- SpecialAttentionID: integer (nullable = true)\n |-- BroadcastOriginPointID: integer (nullable = true)\n |-- CompositionID: integer (nullable = true)\n |-- Producer1: string (nullable = true)\n |-- Producer2: string (nullable = true)\n |-- Language1: integer (nullable = true)\n |-- Language2: integer (nullable = true)\n |-- duration_seconds: integer (nullable = true)\n |-- LogIdentifierID: string (nullable = true)\n |-- LogServiceID: integer (nullable = true)\n |-- PrimaryFG: integer (nullable = true)\n\n"
     ]
    }
   ],
   "source": [
    "# The logs DF gets aliased as \"left\"\n",
    "# The log_identifier DF gets aliased as \"right\"\n",
    "# With these aliases, F.col() will now resolve \"left\" and \"right\" as a prefix for the column names\n",
    "\n",
    "logs_and_channels_verbose = logs.alias(\"left\").join(log_identifier.alias(\"right\"),\n",
    "    logs[\"LogServiceID\"] == log_identifier[\"LogServiceID\"]\n",
    ")\n",
    "logs_and_channels_verbose.printSchema()"
   ]
  },
  {
   "cell_type": "code",
   "execution_count": 0,
   "metadata": {
    "application/vnd.databricks.v1+cell": {
     "cellMetadata": {},
     "inputWidgets": {},
     "nuid": "02de9172-5c5c-4c32-8552-3cdda7aa537a",
     "showTitle": false,
     "title": ""
    }
   },
   "outputs": [
    {
     "output_type": "stream",
     "name": "stdout",
     "output_type": "stream",
     "text": [
      "root\n |-- LogServiceID: integer (nullable = true)\n |-- LogDate: timestamp (nullable = true)\n |-- AudienceTargetAgeID: integer (nullable = true)\n |-- AudienceTargetEthnicID: integer (nullable = true)\n |-- CategoryID: integer (nullable = true)\n |-- ClosedCaptionID: integer (nullable = true)\n |-- CountryOfOriginID: integer (nullable = true)\n |-- DubDramaCreditID: integer (nullable = true)\n |-- EthnicProgramID: integer (nullable = true)\n |-- ProductionSourceID: integer (nullable = true)\n |-- ProgramClassID: integer (nullable = true)\n |-- FilmClassificationID: integer (nullable = true)\n |-- ExhibitionID: integer (nullable = true)\n |-- Duration: string (nullable = true)\n |-- EndTime: string (nullable = true)\n |-- LogEntryDate: timestamp (nullable = true)\n |-- ProductionNO: string (nullable = true)\n |-- ProgramTitle: string (nullable = true)\n |-- StartTime: string (nullable = true)\n |-- Subtitle: string (nullable = true)\n |-- NetworkAffiliationID: integer (nullable = true)\n |-- SpecialAttentionID: integer (nullable = true)\n |-- BroadcastOriginPointID: integer (nullable = true)\n |-- CompositionID: integer (nullable = true)\n |-- Producer1: string (nullable = true)\n |-- Producer2: string (nullable = true)\n |-- Language1: integer (nullable = true)\n |-- Language2: integer (nullable = true)\n |-- duration_seconds: integer (nullable = true)\n |-- LogIdentifierID: string (nullable = true)\n |-- PrimaryFG: integer (nullable = true)\n\n"
     ]
    }
   ],
   "source": [
    "logs_and_channels_verbose = logs_and_channels_verbose.drop(F.col(\"right.LogServiceID\"))\n",
    "logs_and_channels_verbose.printSchema()"
   ]
  },
  {
   "cell_type": "markdown",
   "metadata": {
    "application/vnd.databricks.v1+cell": {
     "cellMetadata": {},
     "inputWidgets": {},
     "nuid": "9a7566cc-1b18-496d-8a88-a28f1a359b88",
     "showTitle": false,
     "title": ""
    }
   },
   "source": [
    "## End-to-end JOINS example with other data files"
   ]
  },
  {
   "cell_type": "code",
   "execution_count": 0,
   "metadata": {
    "application/vnd.databricks.v1+cell": {
     "cellMetadata": {},
     "inputWidgets": {},
     "nuid": "b83c5ddd-e9f4-4733-b09b-b752611932e1",
     "showTitle": false,
     "title": ""
    }
   },
   "outputs": [],
   "source": [
    "# DIRECTORY = \"dbfs:/FileStore/tables/data\"\n",
    "\n",
    "cd_category = spark.read.csv(\n",
    "    os.path.join(DIRECTORY, \"ReferenceTables/CD_Category.csv\"),\n",
    "    sep=\"|\",\n",
    "    header=True,\n",
    "    inferSchema=True\n",
    ").select(\n",
    "    \"CategoryID\",\n",
    "    \"CategoryCD\",\n",
    "    F.col(\"EnglishDescription\").alias(\"Category_Description\") # We are aliasing the EnglishDescription column to remember what it maps to\n",
    ")\n",
    " \n",
    "cd_program_class = spark.read.csv(\n",
    "    os.path.join(DIRECTORY, \"ReferenceTables/CD_ProgramClass.csv\"),\n",
    "    sep=\"|\",\n",
    "    header=True,\n",
    "    inferSchema=True\n",
    ").select(\n",
    "    \"ProgramClassID\",\n",
    "    \"ProgramClassCD\",\n",
    "    F.col(\"EnglishDescription\").alias(\"ProgramClass_Description\") # We are also aliasing here again\n",
    ")\n",
    " \n",
    "full_log = logs_and_channels.join(cd_category, \"CategoryID\", how=\"left\").join(\n",
    "    cd_program_class, \"ProgramClassID\", how=\"left\"\n",
    ")"
   ]
  },
  {
   "cell_type": "code",
   "execution_count": 0,
   "metadata": {
    "application/vnd.databricks.v1+cell": {
     "cellMetadata": {},
     "inputWidgets": {},
     "nuid": "7b79c661-5a57-48f1-a65c-32b8bb98a366",
     "showTitle": false,
     "title": ""
    }
   },
   "outputs": [
    {
     "output_type": "stream",
     "name": "stdout",
     "output_type": "stream",
     "text": [
      "root\n |-- ProgramClassID: integer (nullable = true)\n |-- CategoryID: integer (nullable = true)\n |-- LogServiceID: integer (nullable = true)\n |-- LogDate: timestamp (nullable = true)\n |-- AudienceTargetAgeID: integer (nullable = true)\n |-- AudienceTargetEthnicID: integer (nullable = true)\n |-- ClosedCaptionID: integer (nullable = true)\n |-- CountryOfOriginID: integer (nullable = true)\n |-- DubDramaCreditID: integer (nullable = true)\n |-- EthnicProgramID: integer (nullable = true)\n |-- ProductionSourceID: integer (nullable = true)\n |-- FilmClassificationID: integer (nullable = true)\n |-- ExhibitionID: integer (nullable = true)\n |-- Duration: string (nullable = true)\n |-- EndTime: string (nullable = true)\n |-- LogEntryDate: timestamp (nullable = true)\n |-- ProductionNO: string (nullable = true)\n |-- ProgramTitle: string (nullable = true)\n |-- StartTime: string (nullable = true)\n |-- Subtitle: string (nullable = true)\n |-- NetworkAffiliationID: integer (nullable = true)\n |-- SpecialAttentionID: integer (nullable = true)\n |-- BroadcastOriginPointID: integer (nullable = true)\n |-- CompositionID: integer (nullable = true)\n |-- Producer1: string (nullable = true)\n |-- Producer2: string (nullable = true)\n |-- Language1: integer (nullable = true)\n |-- Language2: integer (nullable = true)\n |-- duration_seconds: integer (nullable = true)\n |-- LogIdentifierID: string (nullable = true)\n |-- PrimaryFG: integer (nullable = true)\n |-- CategoryCD: string (nullable = true)\n |-- Category_Description: string (nullable = true)\n |-- ProgramClassCD: string (nullable = true)\n |-- ProgramClass_Description: string (nullable = true)\n\n"
     ]
    }
   ],
   "source": [
    "full_log.printSchema()"
   ]
  }
 ],
 "metadata": {
  "application/vnd.databricks.v1+notebook": {
   "dashboards": [],
   "environmentMetadata": null,
   "language": "python",
   "notebookMetadata": {
    "pythonIndentUnit": 4
   },
   "notebookName": "latest",
   "widgets": {}
  }
 },
 "nbformat": 4,
 "nbformat_minor": 0
}
